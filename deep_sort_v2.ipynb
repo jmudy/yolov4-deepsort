{
  "nbformat": 4,
  "nbformat_minor": 0,
  "metadata": {
    "accelerator": "GPU",
    "colab": {
      "name": "deep-sort_v2.ipynb",
      "provenance": [],
      "collapsed_sections": [],
      "toc_visible": true,
      "include_colab_link": true
    },
    "kernelspec": {
      "display_name": "Python 3",
      "name": "python3"
    }
  },
  "cells": [
    {
      "cell_type": "markdown",
      "metadata": {
        "id": "view-in-github",
        "colab_type": "text"
      },
      "source": [
        "<a href=\"https://colab.research.google.com/github/jmudy/yolov4-deepsort/blob/develop/deep_sort_v2.ipynb\" target=\"_parent\"><img src=\"https://colab.research.google.com/assets/colab-badge.svg\" alt=\"Open In Colab\"/></a>"
      ]
    },
    {
      "cell_type": "code",
      "metadata": {
        "id": "qIOqCGU6vm7L"
      },
      "source": [
        "!nvidia-smi\n",
        "!/usr/local/cuda/bin/nvcc --version"
      ],
      "execution_count": null,
      "outputs": []
    },
    {
      "cell_type": "code",
      "metadata": {
        "id": "s80KGITiqa87"
      },
      "source": [
        "!git clone https://github.com/jmudy/yolov4-deepsort"
      ],
      "execution_count": null,
      "outputs": []
    },
    {
      "cell_type": "code",
      "metadata": {
        "id": "k1eZuPuQqssU"
      },
      "source": [
        "%cd yolov4-deepsort"
      ],
      "execution_count": null,
      "outputs": []
    },
    {
      "cell_type": "code",
      "metadata": {
        "id": "paJhaK6LqrPg"
      },
      "source": [
        "!pip install -r requirements-gpu.txt"
      ],
      "execution_count": null,
      "outputs": []
    },
    {
      "cell_type": "code",
      "metadata": {
        "id": "0kHBY1iQ_chh"
      },
      "source": [
        "# after \"You must restart the runtime in order to use newly installed versions.\"\r\n",
        "%cd yolov4-deepsort"
      ],
      "execution_count": null,
      "outputs": []
    },
    {
      "cell_type": "code",
      "metadata": {
        "id": "JqXrrktRq1lz"
      },
      "source": [
        "!wget https://github.com/AlexeyAB/darknet/releases/download/darknet_yolo_v3_optimal/yolov4.weights -P ./data/"
      ],
      "execution_count": null,
      "outputs": []
    },
    {
      "cell_type": "code",
      "metadata": {
        "id": "3qosifPsrEcz"
      },
      "source": [
        "#!python save_model.py --weights ./data/yolov4.weights --output ./checkpoints/yolov4-416 --input_size 416 --model yolov4\n",
        "!python save_model.py --weights ./data/yolov4.weights --output ./checkpoints/yolov4-608 --input_size 608 --model yolov4\n",
        "#!python save_model.py --weights ./data/yolov4.weights --output ./checkpoints/yolov4-896 --input_size 896 --model yolov4"
      ],
      "execution_count": null,
      "outputs": []
    },
    {
      "cell_type": "code",
      "metadata": {
        "id": "SgWtcUffLAdy"
      },
      "source": [
        "!sed -i 's/GPU: NVIDIA GEFORCE GTX 960M/GPU: NVIDIA Tesla T4/' object_tracker.py\n",
        "#!sed -i 's/GPU: NVIDIA GEFORCE GTX 960M/GPU: NVIDIA Tesla P100/' object_tracker.py\n",
        "#!sed -i 's/GPU: NVIDIA GEFORCE GTX 960M/GPU: NVIDIA Tesla P4/' object_tracker.py\n",
        "#!sed -i 's/GPU: NVIDIA GEFORCE GTX 960M/GPU: NVIDIA Tesla K80/' object_tracker.py"
      ],
      "execution_count": null,
      "outputs": []
    },
    {
      "cell_type": "code",
      "metadata": {
        "id": "_JQQUhdIgT0N"
      },
      "source": [
        "%cd ..\n",
        "from google.colab import drive\n",
        "drive.mount('/content/gdrive')"
      ],
      "execution_count": null,
      "outputs": []
    },
    {
      "cell_type": "code",
      "metadata": {
        "id": "-0DwNBF8gZyj"
      },
      "source": [
        "!ln -s /content/gdrive/My\\ Drive/ /mydrive\n",
        "!ls /mydrive\n",
        "%cd yolov4-deepsort/"
      ],
      "execution_count": null,
      "outputs": []
    },
    {
      "cell_type": "markdown",
      "metadata": {
        "id": "MnTDFQbU8S1M"
      },
      "source": [
        "#Show and save the video in Google Colab or Google Drive"
      ]
    },
    {
      "cell_type": "markdown",
      "metadata": {
        "id": "4ySD66tD8br-"
      },
      "source": [
        "###Video test"
      ]
    },
    {
      "cell_type": "code",
      "metadata": {
        "id": "MluTbz_P8tOu"
      },
      "source": [
        "!python object_tracker.py --video /mydrive/test.mp4 --output ./outputs/test-deepsort608.avi --model yolov4 --size 608 --weights ./checkpoints/yolov4-608 --count --dont_show --info\n",
        "#!python object_tracker.py --video /mydrive/test.mp4 --output /mydrive/test-deepsort608.avi --model yolov4 --size 608 --weights ./checkpoints/yolov4-608 --count --dont_show --info"
      ],
      "execution_count": null,
      "outputs": []
    },
    {
      "cell_type": "markdown",
      "metadata": {
        "id": "m_4P_npw8jhK"
      },
      "source": [
        "###Dataset ABODA"
      ]
    },
    {
      "cell_type": "code",
      "metadata": {
        "id": "cBZEe1q_8wY0"
      },
      "source": [
        "!python object_tracker.py --video /mydrive/videos-datasets/video1.avi --output ./outputs/ABODA-deepsort608.avi --model yolov4 --size 608 --weights ./checkpoints/yolov4-608 --count --dont_show --info\n",
        "#!python object_tracker.py --video /mydrive/videos-datasets/video1.avi --output /mydrive/results-ABODA/ABODA-deepsort608.avi --model yolov4 --size 608 --weights ./checkpoints/yolov4-608 --count --dont_show --info"
      ],
      "execution_count": null,
      "outputs": []
    },
    {
      "cell_type": "markdown",
      "metadata": {
        "id": "q5yOSNx08j8L"
      },
      "source": [
        "###Dataset AVSS2007"
      ]
    },
    {
      "cell_type": "code",
      "metadata": {
        "id": "cgzM1btk8_KU"
      },
      "source": [
        "#!python object_tracker.py --video /mydrive/videos-datasets/AVSS_AB_Easy_Divx.avi --output ./outputs/AVSS_AB_Easy_Divx-deepsort608.avi --model yolov4 --size 608 --weights ./checkpoints/yolov4-608 --count --dont_show --info\n",
        "!python object_tracker.py --video /mydrive/videos-datasets/AVSS_AB_Easy_Divx.avi --output /mydrive/results-AVSS_AB_Easy_Divx/AVSS_AB_Easy_Divx-deepsort608.avi --model yolov4 --size 608 --weights ./checkpoints/yolov4-608 --count --dont_show --info"
      ],
      "execution_count": null,
      "outputs": []
    },
    {
      "cell_type": "markdown",
      "metadata": {
        "id": "-sksPTuU8kS9"
      },
      "source": [
        "###Dataset GBA"
      ]
    },
    {
      "cell_type": "code",
      "metadata": {
        "id": "TrZFo21d87n2"
      },
      "source": [
        "#!python object_tracker.py --video /mydrive/videos-datasets/GBA-near-big-video2.mp4 --output ./outputs/GBA-near-big-video2-deepsort608.avi --model yolov4 --size 608 --weights ./checkpoints/yolov4-608 --count --dont_show --info\n",
        "!python object_tracker.py --video /mydrive/videos-datasets/GBA-near-big-video2.mp4 --output /mydrive/results-GBA-near-big-video2/GBA-near-big-video2-deepsort608.avi --model yolov4 --size 608 --weights ./checkpoints/yolov4-608 --count --dont_show --info"
      ],
      "execution_count": null,
      "outputs": []
    },
    {
      "cell_type": "markdown",
      "metadata": {
        "id": "lpBA43Cf8kuG"
      },
      "source": [
        "###Dataset PETS2007"
      ]
    },
    {
      "cell_type": "code",
      "metadata": {
        "id": "ZpYIE66M86OD"
      },
      "source": [
        "#!python object_tracker.py --video /mydrive/videos-datasets/S08-fourthView.mp4 --output ./outputs/S08-fourthView-deepsort608.avi --model yolov4 --size 608 --weights ./checkpoints/yolov4-608 --count --dont_show --info\n",
        "!python object_tracker.py --video /mydrive/videos-datasets/S08-fourthView.mp4 --output /mydrive/results-GBA-S08-fourthView/S08-fourthView-deepsort608.avi --model yolov4 --size 608 --weights ./checkpoints/yolov4-608 --count --dont_show --info"
      ],
      "execution_count": null,
      "outputs": []
    },
    {
      "cell_type": "markdown",
      "metadata": {
        "id": "Rh7H-NXDV0Nc"
      },
      "source": [
        "#See the results in Google Colab"
      ]
    },
    {
      "cell_type": "code",
      "metadata": {
        "id": "2kY21I7llW61"
      },
      "source": [
        "# define helper function to display videos\n",
        "import io \n",
        "from IPython.display import HTML\n",
        "from base64 import b64encode\n",
        "def show_video(file_name, width=640):\n",
        "  # show resulting deepsort video\n",
        "  mp4 = open(file_name,'rb').read()\n",
        "  data_url = \"data:video/mp4;base64,\" + b64encode(mp4).decode()\n",
        "  return HTML(\"\"\"\n",
        "  <video width=\"{0}\" controls>\n",
        "        <source src=\"{1}\" type=\"video/mp4\">\n",
        "  </video>\n",
        "  \"\"\".format(width, data_url))"
      ],
      "execution_count": null,
      "outputs": []
    },
    {
      "cell_type": "code",
      "metadata": {
        "id": "nMNNDKR6UMDJ"
      },
      "source": [
        "# convert resulting video from avi to mp4 file format\n",
        "import os\n",
        "path_video = os.path.join(\"outputs\",\"ABODA-deepsort608.avi\")\n",
        "%cd outputs/\n",
        "!ffmpeg -y -loglevel panic -i ABODA-deepsort608.avi output.mp4\n",
        "%cd ..\n",
        "\n",
        "# output object tracking video\n",
        "path_output = os.path.join(\"outputs\",\"output.mp4\")\n",
        "show_video(path_output, width=960)"
      ],
      "execution_count": null,
      "outputs": []
    }
  ]
}